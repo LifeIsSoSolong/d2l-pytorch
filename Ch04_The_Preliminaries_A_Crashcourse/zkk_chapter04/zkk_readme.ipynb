{
 "cells": [
  {
   "cell_type": "markdown",
   "metadata": {
    "collapsed": true
   },
   "source": [
    "## 预备赛：速成班"
   ]
  },
  {
   "cell_type": "markdown",
   "metadata": {},
   "source": [
    "开始深度学习之前，我们需要掌握一些基本技能.所有的机器学习都需要关心如何从数据中提取信息.\n",
    "所以我们首先会学习一些使用Pytorch来存储和处理数据的实用技巧.\n",
    "\n",
    "此外，机器学习通常需要处理大规模数据集，我们可以将其视为表，其中行表示一个个实例，列表示对应的属性.\n",
    "\n",
    "线性代数为我们提供了一组处理表格数据的强大技术。我们不会深入探讨其内部原理，而更关注基本的矩阵运算及如何在Pytorch上使用。\n",
    "\n",
    "另外，深度学习永远和优化相关。我们有一个带有一些参数的模型，然后我们想要寻找那组让模型对数据拟合的最好的参数。\n",
    "在算法的每一次迭代期间，决定每个参数如何调整需要一些微积分知识。幸运的是，Torch的autogtad软件包为我们做了这一点。\n",
    "\n",
    "接下来，机器学习与预测有关：根据我们观察到的信息，某些未知属性的可能值是多少？为了在不确定性下进行严格推理，我们将需要一些概率和统计知识。\n",
    "\n",
    "在本章末尾，将介绍第一个基本分类器：Naive Bayes\n"
   ]
  },
  {
   "cell_type": "markdown",
   "metadata": {},
   "source": [
    "### 索引："
   ]
  },
  {
   "cell_type": "markdown",
   "metadata": {},
   "source": [
    "1.数据处理\n",
    "\n",
    "2.线性代数\n",
    "\n",
    "3.自动微分\n",
    "\n",
    "4.概率与统计\n",
    "\n",
    "5.朴素贝叶斯分类器\n",
    "\n",
    "6.文档"
   ]
  },
  {
   "cell_type": "code",
   "execution_count": null,
   "metadata": {
    "collapsed": true
   },
   "outputs": [],
   "source": []
  }
 ],
 "metadata": {
  "kernelspec": {
   "display_name": "Python 3",
   "language": "python",
   "name": "python3"
  },
  "language_info": {
   "codemirror_mode": {
    "name": "ipython",
    "version": 3
   },
   "file_extension": ".py",
   "mimetype": "text/x-python",
   "name": "python",
   "nbconvert_exporter": "python",
   "pygments_lexer": "ipython3",
   "version": "3.6.1"
  }
 },
 "nbformat": 4,
 "nbformat_minor": 2
}
