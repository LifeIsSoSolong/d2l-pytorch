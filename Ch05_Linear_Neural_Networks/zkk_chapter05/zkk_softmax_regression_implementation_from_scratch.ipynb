{
 "cells": [
  {
   "cell_type": "code",
   "execution_count": 1,
   "metadata": {
    "collapsed": true
   },
   "outputs": [],
   "source": [
    "#数据， 模型， 优化器， 损失函数， 训练"
   ]
  },
  {
   "cell_type": "code",
   "execution_count": 2,
   "metadata": {
    "collapsed": true
   },
   "outputs": [],
   "source": [
    "import sys\n",
    "sys.path.insert(0, '../..')\n",
    "%matplotlib inline\n",
    "import d2l\n",
    "import torch, torchvision\n",
    "from torch.utils.data import DataLoader"
   ]
  },
  {
   "cell_type": "code",
   "execution_count": 70,
   "metadata": {},
   "outputs": [],
   "source": [
    "#使用d2l的函数来加载数据，不用前一节的一步步自己实现了\n",
    "batch_size=256\n",
    "train_dataloader, test_dataloader = d2l.load_data_fashion_mnist(batch_size=batch_size)"
   ]
  },
  {
   "cell_type": "code",
   "execution_count": 84,
   "metadata": {},
   "outputs": [],
   "source": [
    "#输入是256*(1*28*28), 输出是256*10     初始化参数\n",
    "num_inputs = 28*28\n",
    "num_outputs = 10\n",
    "W = torch.Tensor(num_inputs, num_outputs).normal_()\n",
    "b = torch.Tensor(num_outputs).normal_(std=0.01)"
   ]
  },
  {
   "cell_type": "code",
   "execution_count": 85,
   "metadata": {},
   "outputs": [
    {
     "data": {
      "text/plain": [
       "tensor([-0.0006, -0.0127, -0.0055, -0.0036,  0.0042, -0.0031, -0.0174,  0.0129,\n",
       "         0.0033,  0.0042], requires_grad=True)"
      ]
     },
     "execution_count": 85,
     "metadata": {},
     "output_type": "execute_result"
    }
   ],
   "source": [
    "W.requires_grad_(True)\n",
    "b.requires_grad_(True)"
   ]
  },
  {
   "cell_type": "code",
   "execution_count": 86,
   "metadata": {},
   "outputs": [
    {
     "data": {
      "text/plain": [
       "True"
      ]
     },
     "execution_count": 86,
     "metadata": {},
     "output_type": "execute_result"
    }
   ],
   "source": [
    "b.requires_grad"
   ]
  },
  {
   "cell_type": "code",
   "execution_count": 87,
   "metadata": {
    "collapsed": true
   },
   "outputs": [],
   "source": [
    "#softmax fun\n",
    "def softmax(y):\n",
    "    exp_y = torch.exp(y)\n",
    "    deno = torch.sum(exp_y, dim=1, keepdim=True)\n",
    "    return exp_y / deno  #here will use broadcast to full deno"
   ]
  },
  {
   "cell_type": "code",
   "execution_count": 88,
   "metadata": {
    "collapsed": true
   },
   "outputs": [],
   "source": [
    "def softmax_regression(X):\n",
    "    y = torch.mm(torch.reshape(X, (-1, num_inputs)), W) + b\n",
    "    p = softmax(y)\n",
    "    return p\n"
   ]
  },
  {
   "cell_type": "code",
   "execution_count": 89,
   "metadata": {},
   "outputs": [
    {
     "name": "stdout",
     "output_type": "stream",
     "text": [
      "torch.Size([256, 10])\n",
      "tensor([9, 7, 8, 8, 2, 5, 9, 0, 7, 2, 9, 5, 8, 2, 5, 3, 2, 1, 4, 3, 6, 1, 2, 1,\n",
      "        4, 8, 3, 1, 3, 3, 3, 6, 0, 6, 1, 0, 9, 5, 0, 8, 5, 0, 8, 0, 4, 3, 1, 4,\n",
      "        7, 1, 7, 9, 3, 1, 9, 2, 7, 2, 8, 5, 3, 9, 8, 7, 0, 6, 4, 6, 1, 2, 1, 4,\n",
      "        7, 2, 5, 0, 5, 2, 7, 9, 0, 0, 1, 5, 6, 0, 4, 0, 1, 0, 2, 3, 6, 8, 8, 2,\n",
      "        2, 9, 9, 8, 0, 1, 6, 3, 9, 4, 5, 8, 3, 3, 1, 2, 0, 6, 6, 2, 7, 8, 6, 8,\n",
      "        0, 4, 2, 4, 2, 4, 3, 4, 3, 6, 6, 9, 2, 7, 3, 2, 1, 6, 4, 4, 8, 4, 6, 3,\n",
      "        4, 8, 3, 5, 7, 6, 7, 9, 5, 1, 6, 0, 1, 0, 7, 4, 7, 0, 2, 4, 1, 2, 7, 0,\n",
      "        9, 0, 2, 8, 4, 7, 9, 3, 6, 8, 6, 8, 2, 3, 3, 7, 7, 3, 5, 5, 8, 5, 6, 7,\n",
      "        0, 3, 0, 5, 1, 6, 7, 8, 6, 9, 6, 3, 3, 4, 5, 0, 8, 8, 5, 4, 8, 0, 0, 0,\n",
      "        4, 0, 1, 2, 5, 4, 7, 4, 9, 8, 3, 9, 2, 9, 9, 6, 9, 3, 9, 4, 1, 1, 5, 7,\n",
      "        6, 4, 4, 6, 9, 7, 7, 0, 7, 8, 6, 6, 3, 1, 4, 7])\n"
     ]
    }
   ],
   "source": [
    "#测试一下 softmax_regression\n",
    "for X, y in train_dataloader:\n",
    "    p = softmax_regression(X)\n",
    "    print(p.shape)\n",
    "    print(y)\n",
    "    break"
   ]
  },
  {
   "cell_type": "code",
   "execution_count": 90,
   "metadata": {},
   "outputs": [
    {
     "name": "stdout",
     "output_type": "stream",
     "text": [
      "tensor([[0],\n",
      "        [2]])\n",
      "tensor([[0.1000],\n",
      "        [0.5000]])\n"
     ]
    }
   ],
   "source": [
    "#模拟一下三分类的 p 和 label\n",
    "label = torch.LongTensor([0, 2]) #两个样本分别是第0类和第2类\n",
    "p = torch.Tensor([[0.1, 0.3, 0.6], [0.3, 0.2, 0.5]])\n",
    "#cross_entropy_loss = y*log(p) = log(p_i[label_i])  : loss1->log(0.1)    loss2->log(0.5) \n",
    "print(label.unsqueeze(dim=1))\n",
    "print(torch.gather(p, 1, label.unsqueeze(dim=1)))\n",
    "\n",
    "#loss\n",
    "def cross_entropy_loss(p, label):\n",
    "    return -torch.gather(p, 1, label.unsqueeze(dim=1)).log()"
   ]
  },
  {
   "cell_type": "code",
   "execution_count": 91,
   "metadata": {
    "collapsed": true
   },
   "outputs": [],
   "source": [
    "def get_acc(data_iter, softmax_regression):\n",
    "    acc_sum = 0\n",
    "    count = 0\n",
    "    for X, y in data_iter:\n",
    "        p = softmax_regression(X)\n",
    "        acc_sum += (p.argmax(dim=1) == y).sum().item()\n",
    "        count += y.size()[0]\n",
    "    return acc_sum / count"
   ]
  },
  {
   "cell_type": "code",
   "execution_count": 95,
   "metadata": {},
   "outputs": [
    {
     "name": "stdout",
     "output_type": "stream",
     "text": [
      "epoch 1, acc is 0.14741666666666667\n",
      "epoch 2, acc is 0.1524\n",
      "epoch 3, acc is 0.15611666666666665\n",
      "epoch 4, acc is 0.16045\n",
      "epoch 5, acc is 0.16586666666666666\n",
      "epoch 6, acc is 0.17201666666666668\n",
      "epoch 7, acc is 0.17875\n",
      "epoch 8, acc is 0.18555\n",
      "epoch 9, acc is 0.1926\n",
      "epoch 10, acc is 0.19891666666666666\n",
      "epoch 11, acc is 0.20541666666666666\n",
      "epoch 12, acc is 0.21171666666666666\n",
      "epoch 13, acc is 0.21791666666666668\n",
      "epoch 14, acc is 0.22288333333333332\n",
      "epoch 15, acc is 0.22871666666666668\n",
      "epoch 16, acc is 0.23358333333333334\n",
      "epoch 17, acc is 0.23828333333333335\n",
      "epoch 18, acc is 0.24226666666666666\n",
      "epoch 19, acc is 0.24646666666666667\n",
      "epoch 20, acc is 0.2508666666666667\n"
     ]
    }
   ],
   "source": [
    "#训练\n",
    "lr = 0.1\n",
    "epochs = 20\n",
    "for epoch in range(epochs):\n",
    "    for X, y in train_dataloader:\n",
    "        p = softmax_regression(X)\n",
    "        loss = cross_entropy_loss(p, y).mean()\n",
    "        \n",
    "        loss.backward()\n",
    "        \n",
    "        W.data.sub_(lr*W.grad/batch_size)\n",
    "        b.data.sub_(lr*b.grad/batch_size)\n",
    "        \n",
    "        W.grad.data.zero_()\n",
    "        b.grad.data.zero_()\n",
    "    print('epoch {}, acc is {}'.format(epoch+1, get_acc(train_dataloader, softmax_regression)))\n",
    "        \n",
    "        "
   ]
  },
  {
   "cell_type": "code",
   "execution_count": null,
   "metadata": {
    "collapsed": true
   },
   "outputs": [],
   "source": []
  }
 ],
 "metadata": {
  "kernelspec": {
   "display_name": "Python 3",
   "language": "python",
   "name": "python3"
  },
  "language_info": {
   "codemirror_mode": {
    "name": "ipython",
    "version": 3
   },
   "file_extension": ".py",
   "mimetype": "text/x-python",
   "name": "python",
   "nbconvert_exporter": "python",
   "pygments_lexer": "ipython3",
   "version": "3.6.1"
  }
 },
 "nbformat": 4,
 "nbformat_minor": 2
}
