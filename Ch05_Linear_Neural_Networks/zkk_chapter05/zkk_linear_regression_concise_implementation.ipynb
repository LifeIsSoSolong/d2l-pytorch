{
 "cells": [
  {
   "cell_type": "code",
   "execution_count": 44,
   "metadata": {
    "collapsed": true
   },
   "outputs": [],
   "source": [
    "import torch\n",
    "import numpy as np\n",
    "\n",
    "#生成训练数据\n",
    "num_features = 2\n",
    "num_examples = 1000\n",
    "true_w = torch.Tensor([2, -3.4])\n",
    "true_b = 4.2\n",
    "inputs = torch.zeros(num_examples, num_features).normal_()#正态分布生成给定shape的输入样本\n",
    "labels = torch.mm(inputs, true_w.reshape(num_features,1)) + true_b#生成GT的labels"
   ]
  },
  {
   "cell_type": "code",
   "execution_count": null,
   "metadata": {
    "collapsed": true
   },
   "outputs": [],
   "source": []
  },
  {
   "cell_type": "code",
   "execution_count": 45,
   "metadata": {},
   "outputs": [
    {
     "name": "stdout",
     "output_type": "stream",
     "text": [
      "tensor([[ 0.7714,  1.1876],\n",
      "        [-0.5792,  0.0359],\n",
      "        [ 2.4065,  1.3062],\n",
      "        [-1.6062,  1.7283],\n",
      "        [ 0.2489,  1.2175],\n",
      "        [ 0.8983, -0.7168],\n",
      "        [-0.5366, -0.3068],\n",
      "        [ 0.8297,  0.0938],\n",
      "        [ 0.5796, -0.2179],\n",
      "        [-1.0034,  1.4588]])\n",
      "tensor([[ 1.7050],\n",
      "        [ 2.9195],\n",
      "        [ 4.5718],\n",
      "        [-4.8885],\n",
      "        [ 0.5583],\n",
      "        [ 8.4335],\n",
      "        [ 4.1699],\n",
      "        [ 5.5407],\n",
      "        [ 6.1000],\n",
      "        [-2.7668]])\n"
     ]
    }
   ],
   "source": [
    "#dataloader\n",
    "from torch.utils.data import DataLoader, Dataset, TensorDataset\n",
    "def load_torch_array(data_arrays, batch_size, is_train=True):\n",
    "    dataset = TensorDataset(*data_arrays)\n",
    "    dataloader = DataLoader(dataset, batch_size, shuffle=True)\n",
    "    return dataloader\n",
    "batch_size=10\n",
    "train_dataloader = load_torch_array((inputs, labels), batch_size)\n",
    "for X,y in train_dataloader:\n",
    "    print(X)\n",
    "    print(y)\n",
    "    break"
   ]
  },
  {
   "cell_type": "code",
   "execution_count": 62,
   "metadata": {
    "collapsed": true
   },
   "outputs": [],
   "source": [
    "#model\n",
    "from torch.nn import Module\n",
    "from torch.nn import Linear\n",
    "class MyLinearRegressModel(Module):\n",
    "    def __init__(self):\n",
    "        super(MyLinearRegressModel, self).__init__()\n",
    "        self.layer = Linear(2, 1, bias=True)\n",
    "    def forward(self, x):\n",
    "        x = self.layer(x)\n",
    "        return x\n",
    "net = MyLinearRegressModel()"
   ]
  },
  {
   "cell_type": "code",
   "execution_count": 63,
   "metadata": {},
   "outputs": [
    {
     "data": {
      "text/plain": [
       "MyLinearRegressModel(\n",
       "  (layer): Linear(in_features=2, out_features=1, bias=True)\n",
       ")"
      ]
     },
     "execution_count": 63,
     "metadata": {},
     "output_type": "execute_result"
    }
   ],
   "source": [
    "net"
   ]
  },
  {
   "cell_type": "code",
   "execution_count": 64,
   "metadata": {},
   "outputs": [
    {
     "name": "stdout",
     "output_type": "stream",
     "text": [
      "Parameter containing:\n",
      "tensor([[ 0.0139, -0.0020]], requires_grad=True)\n",
      "Parameter containing:\n",
      "tensor([0.], requires_grad=True)\n"
     ]
    }
   ],
   "source": [
    "#初始化模型参数\n",
    "net.layer.weight.data=torch.Tensor(np.random.normal(size=(1,2),scale=0.01,loc=0))\n",
    "net.layer.bias.data=torch.Tensor([0])\n",
    "print(net.layer.weight)\n",
    "print(net.layer.bias)"
   ]
  },
  {
   "cell_type": "code",
   "execution_count": 65,
   "metadata": {},
   "outputs": [
    {
     "name": "stdout",
     "output_type": "stream",
     "text": [
      "Parameter containing:\n",
      "tensor([[ 0.0139, -0.0020]], requires_grad=True)\n"
     ]
    }
   ],
   "source": [
    "print(net.layer.weight)"
   ]
  },
  {
   "cell_type": "code",
   "execution_count": 66,
   "metadata": {
    "collapsed": true
   },
   "outputs": [],
   "source": [
    "#优化器\n",
    "from torch.optim import SGD\n",
    "optimizer = SGD(net.parameters(), lr=0.001)"
   ]
  },
  {
   "cell_type": "code",
   "execution_count": 67,
   "metadata": {},
   "outputs": [],
   "source": [
    "#损失函数\n",
    "from torch.nn import MSELoss\n",
    "mseloss = MSELoss(reduction='mean')"
   ]
  },
  {
   "cell_type": "code",
   "execution_count": 68,
   "metadata": {},
   "outputs": [
    {
     "name": "stdout",
     "output_type": "stream",
     "text": [
      "epoch 1, train loss is 22.523990631103516\n",
      "epoch 2, train loss is 14.935589790344238\n",
      "epoch 3, train loss is 9.905510902404785\n",
      "epoch 4, train loss is 6.570267677307129\n",
      "epoch 5, train loss is 4.358557224273682\n",
      "epoch 6, train loss is 2.891709327697754\n",
      "epoch 7, train loss is 1.918757438659668\n",
      "epoch 8, train loss is 1.2733231782913208\n",
      "epoch 9, train loss is 0.8450863361358643\n",
      "epoch 10, train loss is 0.5609484314918518\n",
      "epoch 11, train loss is 0.37238532304763794\n",
      "epoch 12, train loss is 0.2472277134656906\n",
      "epoch 13, train loss is 0.1641523391008377\n",
      "epoch 14, train loss is 0.10900606960058212\n",
      "epoch 15, train loss is 0.07239483296871185\n",
      "epoch 16, train loss is 0.04808414354920387\n",
      "epoch 17, train loss is 0.031940046697854996\n",
      "epoch 18, train loss is 0.021218659356236458\n",
      "epoch 19, train loss is 0.014097712002694607\n",
      "epoch 20, train loss is 0.009367094375193119\n",
      "epoch 21, train loss is 0.006224274169653654\n",
      "epoch 22, train loss is 0.004136277828365564\n",
      "epoch 23, train loss is 0.002749277977272868\n",
      "epoch 24, train loss is 0.0018275637412443757\n",
      "epoch 25, train loss is 0.001214937656186521\n",
      "epoch 26, train loss is 0.0008077473030425608\n",
      "epoch 27, train loss is 0.0005370710277929902\n",
      "epoch 28, train loss is 0.000357087206793949\n",
      "epoch 29, train loss is 0.00023745403450448066\n",
      "epoch 30, train loss is 0.0001579008821863681\n",
      "epoch 31, train loss is 0.00010503631347091869\n",
      "epoch 32, train loss is 6.986666267039254e-05\n",
      "epoch 33, train loss is 4.648790127248503e-05\n",
      "epoch 34, train loss is 3.09320748783648e-05\n",
      "epoch 35, train loss is 2.0568362742778845e-05\n",
      "epoch 36, train loss is 1.3689026673091576e-05\n",
      "epoch 37, train loss is 9.119376954913605e-06\n",
      "epoch 38, train loss is 6.064316039555706e-06\n",
      "epoch 39, train loss is 4.0404429455520585e-06\n",
      "epoch 40, train loss is 2.681221985767479e-06\n",
      "epoch 41, train loss is 1.7814187458498054e-06\n",
      "epoch 42, train loss is 1.1886183983733645e-06\n",
      "epoch 43, train loss is 7.901949743427394e-07\n",
      "epoch 44, train loss is 5.252929327070888e-07\n",
      "epoch 45, train loss is 3.5067603221250465e-07\n",
      "epoch 46, train loss is 2.3153650374752033e-07\n",
      "epoch 47, train loss is 1.5570826406019478e-07\n",
      "epoch 48, train loss is 1.0587007892581823e-07\n",
      "epoch 49, train loss is 7.05724545468911e-08\n",
      "epoch 50, train loss is 4.5361847611502526e-08\n",
      "epoch 51, train loss is 2.8276827990225684e-08\n",
      "epoch 52, train loss is 1.87810940133204e-08\n",
      "epoch 53, train loss is 1.4001923176465425e-08\n",
      "epoch 54, train loss is 1.1907872909944217e-08\n",
      "epoch 55, train loss is 1.0389435978197525e-08\n",
      "epoch 56, train loss is 9.582964644039293e-09\n",
      "epoch 57, train loss is 9.042127047109716e-09\n",
      "epoch 58, train loss is 8.792115480105167e-09\n",
      "epoch 59, train loss is 8.60559978832498e-09\n",
      "epoch 60, train loss is 8.464257739149161e-09\n",
      "epoch 61, train loss is 8.356640712747776e-09\n",
      "epoch 62, train loss is 8.26901835893068e-09\n",
      "epoch 63, train loss is 8.19505974192225e-09\n",
      "epoch 64, train loss is 8.174112942072043e-09\n",
      "epoch 65, train loss is 8.156567865569286e-09\n",
      "epoch 66, train loss is 8.117321037559577e-09\n",
      "epoch 67, train loss is 8.104112936280217e-09\n",
      "epoch 68, train loss is 8.081574520701906e-09\n",
      "epoch 69, train loss is 8.070666801529569e-09\n",
      "epoch 70, train loss is 8.064707124333381e-09\n",
      "epoch 71, train loss is 8.059847900199202e-09\n",
      "epoch 72, train loss is 8.05218114408035e-09\n",
      "epoch 73, train loss is 8.0442168481909e-09\n",
      "epoch 74, train loss is 8.042099430838334e-09\n",
      "epoch 75, train loss is 8.044723998068548e-09\n",
      "epoch 76, train loss is 8.042134957975122e-09\n",
      "epoch 77, train loss is 8.042032817456857e-09\n",
      "epoch 78, train loss is 8.039869214826467e-09\n",
      "epoch 79, train loss is 8.036815657419538e-09\n",
      "epoch 80, train loss is 8.03523825254615e-09\n",
      "epoch 81, train loss is 8.036126430965851e-09\n",
      "epoch 82, train loss is 8.03396815740598e-09\n",
      "epoch 83, train loss is 8.03287125705765e-09\n",
      "epoch 84, train loss is 8.034576559623474e-09\n",
      "epoch 85, train loss is 8.03612820732269e-09\n",
      "epoch 86, train loss is 8.035947907103491e-09\n",
      "epoch 87, train loss is 8.036675325229226e-09\n",
      "epoch 88, train loss is 8.036431076163808e-09\n",
      "epoch 89, train loss is 8.039853227614913e-09\n",
      "epoch 90, train loss is 8.035585530308254e-09\n",
      "epoch 91, train loss is 8.03520983083672e-09\n",
      "epoch 92, train loss is 8.038726129200313e-09\n",
      "epoch 93, train loss is 8.034908738352442e-09\n",
      "epoch 94, train loss is 8.035843990228386e-09\n",
      "epoch 95, train loss is 8.036550980250468e-09\n",
      "epoch 96, train loss is 8.035843990228386e-09\n",
      "epoch 97, train loss is 8.035843990228386e-09\n",
      "epoch 98, train loss is 8.037980947506185e-09\n",
      "epoch 99, train loss is 8.040505150574973e-09\n",
      "epoch 100, train loss is 8.037387644321825e-09\n"
     ]
    }
   ],
   "source": [
    "#训练\n",
    "epochs = 100\n",
    "for epoch in range(epochs):\n",
    "    for x, y in train_dataloader:\n",
    "        p = net(x)\n",
    "        l = mseloss(p, y)\n",
    "        optimizer.zero_grad()\n",
    "        l.backward()\n",
    "        optimizer.step()\n",
    "    l_epoch = mseloss(net(inputs), labels)\n",
    "    print('epoch {}, train loss is {}'.format(epoch+1, l_epoch))"
   ]
  },
  {
   "cell_type": "code",
   "execution_count": null,
   "metadata": {
    "collapsed": true
   },
   "outputs": [],
   "source": []
  }
 ],
 "metadata": {
  "kernelspec": {
   "display_name": "Python 3",
   "language": "python",
   "name": "python3"
  },
  "language_info": {
   "codemirror_mode": {
    "name": "ipython",
    "version": 3
   },
   "file_extension": ".py",
   "mimetype": "text/x-python",
   "name": "python",
   "nbconvert_exporter": "python",
   "pygments_lexer": "ipython3",
   "version": "3.6.1"
  }
 },
 "nbformat": 4,
 "nbformat_minor": 2
}
