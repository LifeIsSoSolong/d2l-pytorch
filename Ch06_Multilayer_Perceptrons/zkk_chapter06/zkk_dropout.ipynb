{
 "cells": [
  {
   "cell_type": "markdown",
   "metadata": {},
   "source": [
    "教程看到了dropout\n",
    "还有\n",
    "{\n",
    "dropout\n",
    "forward\n",
    "Numerical \n",
    "COnsider\n",
    "Predicting\n",
    "}\n",
    "这几个没看"
   ]
  }
 ],
 "metadata": {
  "kernelspec": {
   "display_name": "Python 3",
   "language": "python",
   "name": "python3"
  },
  "language_info": {
   "codemirror_mode": {
    "name": "ipython",
    "version": 3
   },
   "file_extension": ".py",
   "mimetype": "text/x-python",
   "name": "python",
   "nbconvert_exporter": "python",
   "pygments_lexer": "ipython3",
   "version": "3.6.1"
  }
 },
 "nbformat": 4,
 "nbformat_minor": 2
}
